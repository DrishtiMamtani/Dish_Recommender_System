{
 "cells": [
  {
   "cell_type": "code",
   "execution_count": 1,
   "metadata": {},
   "outputs": [],
   "source": [
    "import numpy as np\n",
    "import pandas as pd"
   ]
  },
  {
   "cell_type": "code",
   "execution_count": 2,
   "metadata": {},
   "outputs": [],
   "source": [
    "df = pd.read_csv('reviews_data.csv')"
   ]
  },
  {
   "cell_type": "code",
   "execution_count": 3,
   "metadata": {},
   "outputs": [
    {
     "data": {
      "text/html": [
       "<div>\n",
       "<style scoped>\n",
       "    .dataframe tbody tr th:only-of-type {\n",
       "        vertical-align: middle;\n",
       "    }\n",
       "\n",
       "    .dataframe tbody tr th {\n",
       "        vertical-align: top;\n",
       "    }\n",
       "\n",
       "    .dataframe thead th {\n",
       "        text-align: right;\n",
       "    }\n",
       "</style>\n",
       "<table border=\"1\" class=\"dataframe\">\n",
       "  <thead>\n",
       "    <tr style=\"text-align: right;\">\n",
       "      <th></th>\n",
       "      <th>user_id</th>\n",
       "      <th>recipe_id</th>\n",
       "      <th>rating</th>\n",
       "      <th>dateLastModified</th>\n",
       "    </tr>\n",
       "  </thead>\n",
       "  <tbody>\n",
       "    <tr>\n",
       "      <th>0</th>\n",
       "      <td>1313770</td>\n",
       "      <td>13988</td>\n",
       "      <td>5</td>\n",
       "      <td>2012-01-25T09:11:57.003\\n</td>\n",
       "    </tr>\n",
       "    <tr>\n",
       "      <th>1</th>\n",
       "      <td>880574</td>\n",
       "      <td>67952</td>\n",
       "      <td>4</td>\n",
       "      <td>2012-03-24T05:37:12.64\\n</td>\n",
       "    </tr>\n",
       "    <tr>\n",
       "      <th>2</th>\n",
       "      <td>880574</td>\n",
       "      <td>85389</td>\n",
       "      <td>5</td>\n",
       "      <td>2012-03-05T18:09:22.573\\n</td>\n",
       "    </tr>\n",
       "    <tr>\n",
       "      <th>3</th>\n",
       "      <td>880574</td>\n",
       "      <td>218597</td>\n",
       "      <td>4</td>\n",
       "      <td>2012-03-03T10:23:05.127\\n</td>\n",
       "    </tr>\n",
       "    <tr>\n",
       "      <th>4</th>\n",
       "      <td>880574</td>\n",
       "      <td>143069</td>\n",
       "      <td>3</td>\n",
       "      <td>2012-11-25T06:55:33.463\\n</td>\n",
       "    </tr>\n",
       "  </tbody>\n",
       "</table>\n",
       "</div>"
      ],
      "text/plain": [
       "   user_id  recipe_id  rating           dateLastModified\n",
       "0  1313770      13988       5  2012-01-25T09:11:57.003\\n\n",
       "1   880574      67952       4   2012-03-24T05:37:12.64\\n\n",
       "2   880574      85389       5  2012-03-05T18:09:22.573\\n\n",
       "3   880574     218597       4  2012-03-03T10:23:05.127\\n\n",
       "4   880574     143069       3  2012-11-25T06:55:33.463\\n"
      ]
     },
     "execution_count": 3,
     "metadata": {},
     "output_type": "execute_result"
    }
   ],
   "source": [
    "df.head()"
   ]
  },
  {
   "cell_type": "code",
   "execution_count": 4,
   "metadata": {},
   "outputs": [],
   "source": [
    "dishes = pd.read_csv('recipe_name.csv')"
   ]
  },
  {
   "cell_type": "code",
   "execution_count": 5,
   "metadata": {},
   "outputs": [],
   "source": [
    "dishes=dishes.drop(\"Unnamed: 0\", axis=1)"
   ]
  },
  {
   "cell_type": "code",
   "execution_count": 6,
   "metadata": {},
   "outputs": [
    {
     "data": {
      "text/html": [
       "<div>\n",
       "<style scoped>\n",
       "    .dataframe tbody tr th:only-of-type {\n",
       "        vertical-align: middle;\n",
       "    }\n",
       "\n",
       "    .dataframe tbody tr th {\n",
       "        vertical-align: top;\n",
       "    }\n",
       "\n",
       "    .dataframe thead th {\n",
       "        text-align: right;\n",
       "    }\n",
       "</style>\n",
       "<table border=\"1\" class=\"dataframe\">\n",
       "  <thead>\n",
       "    <tr style=\"text-align: right;\">\n",
       "      <th></th>\n",
       "      <th>recipe_id</th>\n",
       "      <th>recipe_name</th>\n",
       "    </tr>\n",
       "  </thead>\n",
       "  <tbody>\n",
       "    <tr>\n",
       "      <th>0</th>\n",
       "      <td>222388</td>\n",
       "      <td>Homemade Bacon</td>\n",
       "    </tr>\n",
       "    <tr>\n",
       "      <th>1</th>\n",
       "      <td>240488</td>\n",
       "      <td>Pork Loin, Apples, and Sauerkraut</td>\n",
       "    </tr>\n",
       "    <tr>\n",
       "      <th>2</th>\n",
       "      <td>218939</td>\n",
       "      <td>Foolproof Rosemary Chicken Wings</td>\n",
       "    </tr>\n",
       "    <tr>\n",
       "      <th>3</th>\n",
       "      <td>87211</td>\n",
       "      <td>Chicken Pesto Paninis</td>\n",
       "    </tr>\n",
       "    <tr>\n",
       "      <th>4</th>\n",
       "      <td>245714</td>\n",
       "      <td>Potato Bacon Pizza</td>\n",
       "    </tr>\n",
       "  </tbody>\n",
       "</table>\n",
       "</div>"
      ],
      "text/plain": [
       "   recipe_id                        recipe_name\n",
       "0     222388                     Homemade Bacon\n",
       "1     240488  Pork Loin, Apples, and Sauerkraut\n",
       "2     218939   Foolproof Rosemary Chicken Wings\n",
       "3      87211              Chicken Pesto Paninis\n",
       "4     245714                 Potato Bacon Pizza"
      ]
     },
     "execution_count": 6,
     "metadata": {},
     "output_type": "execute_result"
    }
   ],
   "source": [
    "dishes.head()"
   ]
  },
  {
   "cell_type": "code",
   "execution_count": 7,
   "metadata": {},
   "outputs": [
    {
     "data": {
      "text/html": [
       "<div>\n",
       "<style scoped>\n",
       "    .dataframe tbody tr th:only-of-type {\n",
       "        vertical-align: middle;\n",
       "    }\n",
       "\n",
       "    .dataframe tbody tr th {\n",
       "        vertical-align: top;\n",
       "    }\n",
       "\n",
       "    .dataframe thead th {\n",
       "        text-align: right;\n",
       "    }\n",
       "</style>\n",
       "<table border=\"1\" class=\"dataframe\">\n",
       "  <thead>\n",
       "    <tr style=\"text-align: right;\">\n",
       "      <th></th>\n",
       "      <th>user_id</th>\n",
       "      <th>recipe_id</th>\n",
       "      <th>rating</th>\n",
       "      <th>dateLastModified</th>\n",
       "      <th>recipe_name</th>\n",
       "    </tr>\n",
       "  </thead>\n",
       "  <tbody>\n",
       "    <tr>\n",
       "      <th>0</th>\n",
       "      <td>1313770</td>\n",
       "      <td>13988</td>\n",
       "      <td>5</td>\n",
       "      <td>2012-01-25T09:11:57.003\\n</td>\n",
       "      <td>Marrakesh Vegetable Curry</td>\n",
       "    </tr>\n",
       "    <tr>\n",
       "      <th>1</th>\n",
       "      <td>364064</td>\n",
       "      <td>13988</td>\n",
       "      <td>5</td>\n",
       "      <td>2012-07-03T16:50:28.183\\n</td>\n",
       "      <td>Marrakesh Vegetable Curry</td>\n",
       "    </tr>\n",
       "    <tr>\n",
       "      <th>2</th>\n",
       "      <td>3196461</td>\n",
       "      <td>13988</td>\n",
       "      <td>4</td>\n",
       "      <td>2012-08-29T16:16:29.987\\n</td>\n",
       "      <td>Marrakesh Vegetable Curry</td>\n",
       "    </tr>\n",
       "    <tr>\n",
       "      <th>3</th>\n",
       "      <td>2538115</td>\n",
       "      <td>13988</td>\n",
       "      <td>3</td>\n",
       "      <td>2012-11-25T07:59:25.563\\n</td>\n",
       "      <td>Marrakesh Vegetable Curry</td>\n",
       "    </tr>\n",
       "    <tr>\n",
       "      <th>4</th>\n",
       "      <td>1302401</td>\n",
       "      <td>13988</td>\n",
       "      <td>5</td>\n",
       "      <td>2012-05-10T17:24:15.937\\n</td>\n",
       "      <td>Marrakesh Vegetable Curry</td>\n",
       "    </tr>\n",
       "  </tbody>\n",
       "</table>\n",
       "</div>"
      ],
      "text/plain": [
       "   user_id  recipe_id  rating           dateLastModified  \\\n",
       "0  1313770      13988       5  2012-01-25T09:11:57.003\\n   \n",
       "1   364064      13988       5  2012-07-03T16:50:28.183\\n   \n",
       "2  3196461      13988       4  2012-08-29T16:16:29.987\\n   \n",
       "3  2538115      13988       3  2012-11-25T07:59:25.563\\n   \n",
       "4  1302401      13988       5  2012-05-10T17:24:15.937\\n   \n",
       "\n",
       "                 recipe_name  \n",
       "0  Marrakesh Vegetable Curry  \n",
       "1  Marrakesh Vegetable Curry  \n",
       "2  Marrakesh Vegetable Curry  \n",
       "3  Marrakesh Vegetable Curry  \n",
       "4  Marrakesh Vegetable Curry  "
      ]
     },
     "execution_count": 7,
     "metadata": {},
     "output_type": "execute_result"
    }
   ],
   "source": [
    "df = pd.merge(df,dishes,on='recipe_id')\n",
    "df.head()"
   ]
  },
  {
   "cell_type": "code",
   "execution_count": 8,
   "metadata": {},
   "outputs": [],
   "source": [
    "df=df.drop(\"dateLastModified\",axis=1)"
   ]
  },
  {
   "cell_type": "code",
   "execution_count": 9,
   "metadata": {},
   "outputs": [
    {
     "data": {
      "text/html": [
       "<div>\n",
       "<style scoped>\n",
       "    .dataframe tbody tr th:only-of-type {\n",
       "        vertical-align: middle;\n",
       "    }\n",
       "\n",
       "    .dataframe tbody tr th {\n",
       "        vertical-align: top;\n",
       "    }\n",
       "\n",
       "    .dataframe thead th {\n",
       "        text-align: right;\n",
       "    }\n",
       "</style>\n",
       "<table border=\"1\" class=\"dataframe\">\n",
       "  <thead>\n",
       "    <tr style=\"text-align: right;\">\n",
       "      <th></th>\n",
       "      <th>user_id</th>\n",
       "      <th>recipe_id</th>\n",
       "      <th>rating</th>\n",
       "      <th>recipe_name</th>\n",
       "    </tr>\n",
       "  </thead>\n",
       "  <tbody>\n",
       "    <tr>\n",
       "      <th>0</th>\n",
       "      <td>1313770</td>\n",
       "      <td>13988</td>\n",
       "      <td>5</td>\n",
       "      <td>Marrakesh Vegetable Curry</td>\n",
       "    </tr>\n",
       "    <tr>\n",
       "      <th>1</th>\n",
       "      <td>364064</td>\n",
       "      <td>13988</td>\n",
       "      <td>5</td>\n",
       "      <td>Marrakesh Vegetable Curry</td>\n",
       "    </tr>\n",
       "    <tr>\n",
       "      <th>2</th>\n",
       "      <td>3196461</td>\n",
       "      <td>13988</td>\n",
       "      <td>4</td>\n",
       "      <td>Marrakesh Vegetable Curry</td>\n",
       "    </tr>\n",
       "    <tr>\n",
       "      <th>3</th>\n",
       "      <td>2538115</td>\n",
       "      <td>13988</td>\n",
       "      <td>3</td>\n",
       "      <td>Marrakesh Vegetable Curry</td>\n",
       "    </tr>\n",
       "    <tr>\n",
       "      <th>4</th>\n",
       "      <td>1302401</td>\n",
       "      <td>13988</td>\n",
       "      <td>5</td>\n",
       "      <td>Marrakesh Vegetable Curry</td>\n",
       "    </tr>\n",
       "  </tbody>\n",
       "</table>\n",
       "</div>"
      ],
      "text/plain": [
       "   user_id  recipe_id  rating                recipe_name\n",
       "0  1313770      13988       5  Marrakesh Vegetable Curry\n",
       "1   364064      13988       5  Marrakesh Vegetable Curry\n",
       "2  3196461      13988       4  Marrakesh Vegetable Curry\n",
       "3  2538115      13988       3  Marrakesh Vegetable Curry\n",
       "4  1302401      13988       5  Marrakesh Vegetable Curry"
      ]
     },
     "execution_count": 9,
     "metadata": {},
     "output_type": "execute_result"
    }
   ],
   "source": [
    "df.head()"
   ]
  },
  {
   "cell_type": "code",
   "execution_count": 10,
   "metadata": {},
   "outputs": [],
   "source": [
    "df.to_csv(\"final.csv\")"
   ]
  },
  {
   "cell_type": "markdown",
   "metadata": {},
   "source": [
    "# Visualization"
   ]
  },
  {
   "cell_type": "code",
   "execution_count": 11,
   "metadata": {},
   "outputs": [],
   "source": [
    "import matplotlib.pyplot as plt\n",
    "import seaborn as sns"
   ]
  },
  {
   "cell_type": "code",
   "execution_count": 12,
   "metadata": {},
   "outputs": [],
   "source": [
    "sns.set_style('white')\n",
    "%matplotlib inline"
   ]
  },
  {
   "cell_type": "code",
   "execution_count": 13,
   "metadata": {},
   "outputs": [
    {
     "data": {
      "text/plain": [
       "<pandas.core.groupby.generic.DataFrameGroupBy object at 0x0000028CDC9ABC50>"
      ]
     },
     "execution_count": 13,
     "metadata": {},
     "output_type": "execute_result"
    }
   ],
   "source": [
    "df.groupby('recipe_name')"
   ]
  },
  {
   "cell_type": "code",
   "execution_count": 14,
   "metadata": {},
   "outputs": [
    {
     "data": {
      "text/plain": [
       "<pandas.core.groupby.generic.SeriesGroupBy object at 0x0000028CDC9BB080>"
      ]
     },
     "execution_count": 14,
     "metadata": {},
     "output_type": "execute_result"
    }
   ],
   "source": [
    "df.groupby('recipe_name')['rating']"
   ]
  },
  {
   "cell_type": "code",
   "execution_count": 15,
   "metadata": {},
   "outputs": [
    {
     "data": {
      "text/plain": [
       "recipe_name\n",
       "\"Million Dollar\" Chinese Cabbage Salad       4.750000\n",
       "\"Pantry Raid\" Chicken Enchilada Casserole    4.695652\n",
       "\"Spa\"ctacular Frozen Grapes                  4.200000\n",
       "\"Zuccotto\" Cupcakes                          5.000000\n",
       "#1 Pea Salad Most Requested!                 5.000000\n",
       "Name: rating, dtype: float64"
      ]
     },
     "execution_count": 15,
     "metadata": {},
     "output_type": "execute_result"
    }
   ],
   "source": [
    "df.groupby('recipe_name')['rating'].mean().head()"
   ]
  },
  {
   "cell_type": "code",
   "execution_count": 16,
   "metadata": {},
   "outputs": [
    {
     "data": {
      "text/plain": [
       "recipe_name\n",
       "Pina Colada Punch                      5.0\n",
       "Crawfish and Corn Soup                 5.0\n",
       "Linzer Tarts                           5.0\n",
       "Linnie's Spanish Rice                  5.0\n",
       "Linguini with Cashews and Scallions    5.0\n",
       "Name: rating, dtype: float64"
      ]
     },
     "execution_count": 16,
     "metadata": {},
     "output_type": "execute_result"
    }
   ],
   "source": [
    "df.groupby('recipe_name')['rating'].mean().sort_values(ascending=False).head()"
   ]
  },
  {
   "cell_type": "code",
   "execution_count": 17,
   "metadata": {},
   "outputs": [
    {
     "data": {
      "text/plain": [
       "recipe_name\n",
       "Fluffy Pancakes                  506\n",
       "Delicious Ham and Potato Soup    470\n",
       "Chicken Pot Pie IX               334\n",
       "Best Chocolate Chip Cookies      329\n",
       "World's Best Lasagna             301\n",
       "Name: rating, dtype: int64"
      ]
     },
     "execution_count": 17,
     "metadata": {},
     "output_type": "execute_result"
    }
   ],
   "source": [
    "df.groupby('recipe_name')['rating'].count().sort_values(ascending=False).head()"
   ]
  },
  {
   "cell_type": "code",
   "execution_count": 18,
   "metadata": {},
   "outputs": [],
   "source": [
    "#It may happen that there are only few ratings for a particular dish, for example only one 5 start rating should not indicate that the dish is good "
   ]
  },
  {
   "cell_type": "code",
   "execution_count": 19,
   "metadata": {},
   "outputs": [
    {
     "data": {
      "text/html": [
       "<div>\n",
       "<style scoped>\n",
       "    .dataframe tbody tr th:only-of-type {\n",
       "        vertical-align: middle;\n",
       "    }\n",
       "\n",
       "    .dataframe tbody tr th {\n",
       "        vertical-align: top;\n",
       "    }\n",
       "\n",
       "    .dataframe thead th {\n",
       "        text-align: right;\n",
       "    }\n",
       "</style>\n",
       "<table border=\"1\" class=\"dataframe\">\n",
       "  <thead>\n",
       "    <tr style=\"text-align: right;\">\n",
       "      <th></th>\n",
       "      <th>rating</th>\n",
       "    </tr>\n",
       "    <tr>\n",
       "      <th>recipe_name</th>\n",
       "      <th></th>\n",
       "    </tr>\n",
       "  </thead>\n",
       "  <tbody>\n",
       "    <tr>\n",
       "      <th>\"Million Dollar\" Chinese Cabbage Salad</th>\n",
       "      <td>4.750000</td>\n",
       "    </tr>\n",
       "    <tr>\n",
       "      <th>\"Pantry Raid\" Chicken Enchilada Casserole</th>\n",
       "      <td>4.695652</td>\n",
       "    </tr>\n",
       "    <tr>\n",
       "      <th>\"Spa\"ctacular Frozen Grapes</th>\n",
       "      <td>4.200000</td>\n",
       "    </tr>\n",
       "    <tr>\n",
       "      <th>\"Zuccotto\" Cupcakes</th>\n",
       "      <td>5.000000</td>\n",
       "    </tr>\n",
       "    <tr>\n",
       "      <th>#1 Pea Salad Most Requested!</th>\n",
       "      <td>5.000000</td>\n",
       "    </tr>\n",
       "  </tbody>\n",
       "</table>\n",
       "</div>"
      ],
      "text/plain": [
       "                                             rating\n",
       "recipe_name                                        \n",
       "\"Million Dollar\" Chinese Cabbage Salad     4.750000\n",
       "\"Pantry Raid\" Chicken Enchilada Casserole  4.695652\n",
       "\"Spa\"ctacular Frozen Grapes                4.200000\n",
       "\"Zuccotto\" Cupcakes                        5.000000\n",
       "#1 Pea Salad Most Requested!               5.000000"
      ]
     },
     "execution_count": 19,
     "metadata": {},
     "output_type": "execute_result"
    }
   ],
   "source": [
    "rating_details = pd.DataFrame(df.groupby('recipe_name')['rating'].mean())\n",
    "rating_details.head()"
   ]
  },
  {
   "cell_type": "code",
   "execution_count": 20,
   "metadata": {},
   "outputs": [],
   "source": [
    "rating_details['count'] = pd.DataFrame(df.groupby('recipe_name')['rating'].count())"
   ]
  },
  {
   "cell_type": "code",
   "execution_count": 21,
   "metadata": {},
   "outputs": [
    {
     "data": {
      "text/html": [
       "<div>\n",
       "<style scoped>\n",
       "    .dataframe tbody tr th:only-of-type {\n",
       "        vertical-align: middle;\n",
       "    }\n",
       "\n",
       "    .dataframe tbody tr th {\n",
       "        vertical-align: top;\n",
       "    }\n",
       "\n",
       "    .dataframe thead th {\n",
       "        text-align: right;\n",
       "    }\n",
       "</style>\n",
       "<table border=\"1\" class=\"dataframe\">\n",
       "  <thead>\n",
       "    <tr style=\"text-align: right;\">\n",
       "      <th></th>\n",
       "      <th>rating</th>\n",
       "      <th>count</th>\n",
       "    </tr>\n",
       "    <tr>\n",
       "      <th>recipe_name</th>\n",
       "      <th></th>\n",
       "      <th></th>\n",
       "    </tr>\n",
       "  </thead>\n",
       "  <tbody>\n",
       "    <tr>\n",
       "      <th>\"Million Dollar\" Chinese Cabbage Salad</th>\n",
       "      <td>4.750000</td>\n",
       "      <td>4</td>\n",
       "    </tr>\n",
       "    <tr>\n",
       "      <th>\"Pantry Raid\" Chicken Enchilada Casserole</th>\n",
       "      <td>4.695652</td>\n",
       "      <td>23</td>\n",
       "    </tr>\n",
       "    <tr>\n",
       "      <th>\"Spa\"ctacular Frozen Grapes</th>\n",
       "      <td>4.200000</td>\n",
       "      <td>5</td>\n",
       "    </tr>\n",
       "    <tr>\n",
       "      <th>\"Zuccotto\" Cupcakes</th>\n",
       "      <td>5.000000</td>\n",
       "      <td>6</td>\n",
       "    </tr>\n",
       "    <tr>\n",
       "      <th>#1 Pea Salad Most Requested!</th>\n",
       "      <td>5.000000</td>\n",
       "      <td>2</td>\n",
       "    </tr>\n",
       "  </tbody>\n",
       "</table>\n",
       "</div>"
      ],
      "text/plain": [
       "                                             rating  count\n",
       "recipe_name                                               \n",
       "\"Million Dollar\" Chinese Cabbage Salad     4.750000      4\n",
       "\"Pantry Raid\" Chicken Enchilada Casserole  4.695652     23\n",
       "\"Spa\"ctacular Frozen Grapes                4.200000      5\n",
       "\"Zuccotto\" Cupcakes                        5.000000      6\n",
       "#1 Pea Salad Most Requested!               5.000000      2"
      ]
     },
     "execution_count": 21,
     "metadata": {},
     "output_type": "execute_result"
    }
   ],
   "source": [
    "rating_details.head()"
   ]
  },
  {
   "cell_type": "code",
   "execution_count": 22,
   "metadata": {},
   "outputs": [
    {
     "data": {
      "text/plain": [
       "<matplotlib.axes._subplots.AxesSubplot at 0x28cdc943b00>"
      ]
     },
     "execution_count": 22,
     "metadata": {},
     "output_type": "execute_result"
    },
    {
     "data": {
      "image/png": "[encoded data removed]",
      "text/plain": [
       "<Figure size 576x360 with 1 Axes>"
      ]
     },
     "metadata": {
      "needs_background": "light"
     },
     "output_type": "display_data"
    }
   ],
   "source": [
    "plt.figure(figsize=(8,5))\n",
    "rating_details['count'].hist(bins=60)"
   ]
  },
  {
   "cell_type": "code",
   "execution_count": 23,
   "metadata": {},
   "outputs": [],
   "source": [
    "#As we see number of ratings for all dishes are less than 100"
   ]
  },
  {
   "cell_type": "code",
   "execution_count": 24,
   "metadata": {},
   "outputs": [
    {
     "data": {
      "text/plain": [
       "<matplotlib.axes._subplots.AxesSubplot at 0x28cdced8208>"
      ]
     },
     "execution_count": 24,
     "metadata": {},
     "output_type": "execute_result"
    },
    {
     "data": {
      "image/png": "[encoded data removed]",
      "text/plain": [
       "<Figure size 576x360 with 1 Axes>"
      ]
     },
     "metadata": {
      "needs_background": "light"
     },
     "output_type": "display_data"
    }
   ],
   "source": [
    "plt.figure(figsize=(8,5))\n",
    "rating_details['rating'].hist(bins=30)"
   ]
  },
  {
   "cell_type": "code",
   "execution_count": 25,
   "metadata": {},
   "outputs": [],
   "source": [
    "#The ratings given are majorly spread in the 3 to 5 rating region"
   ]
  },
  {
   "cell_type": "markdown",
   "metadata": {},
   "source": [
    "# Recommendation"
   ]
  },
  {
   "cell_type": "code",
   "execution_count": 26,
   "metadata": {},
   "outputs": [
    {
     "data": {
      "text/html": [
       "<div>\n",
       "<style scoped>\n",
       "    .dataframe tbody tr th:only-of-type {\n",
       "        vertical-align: middle;\n",
       "    }\n",
       "\n",
       "    .dataframe tbody tr th {\n",
       "        vertical-align: top;\n",
       "    }\n",
       "\n",
       "    .dataframe thead th {\n",
       "        text-align: right;\n",
       "    }\n",
       "</style>\n",
       "<table border=\"1\" class=\"dataframe\">\n",
       "  <thead>\n",
       "    <tr style=\"text-align: right;\">\n",
       "      <th>recipe_name</th>\n",
       "      <th>\"Million Dollar\" Chinese Cabbage Salad</th>\n",
       "      <th>\"Pantry Raid\" Chicken Enchilada Casserole</th>\n",
       "      <th>\"Spa\"ctacular Frozen Grapes</th>\n",
       "      <th>\"Zuccotto\" Cupcakes</th>\n",
       "      <th>#1 Pea Salad Most Requested!</th>\n",
       "      <th>#1 Pumpkin Spice Cookies</th>\n",
       "      <th>'Adios, Turkey' Casserole</th>\n",
       "      <th>'But Why Is The Rum Gone?' Grilled Shrimp</th>\n",
       "      <th>'Calabacitas Guisada' (Stewed Mexican Zucchini)</th>\n",
       "      <th>'Chinese Buffet' Green Beans</th>\n",
       "      <th>...</th>\n",
       "      <th>Zucchini e Pomodori Gratinati (Zucchini and Tomato Gratin)</th>\n",
       "      <th>Zucchini for Lunch</th>\n",
       "      <th>Zucchini with Chickpea and Mushroom Stuffing</th>\n",
       "      <th>Zucchini with Farfalle</th>\n",
       "      <th>Zucchini with Mushroom Ravioli in Truffle Butter Sauce</th>\n",
       "      <th>Zucchini-Chocolate Chip Muffins</th>\n",
       "      <th>Zuppa Inglese</th>\n",
       "      <th>Zuppa Toscana</th>\n",
       "      <th>Zwetschekuchen (German Plum Tart)</th>\n",
       "      <th>simplylo's Oven-Baked Sesame Chicken</th>\n",
       "    </tr>\n",
       "    <tr>\n",
       "      <th>user_id</th>\n",
       "      <th></th>\n",
       "      <th></th>\n",
       "      <th></th>\n",
       "      <th></th>\n",
       "      <th></th>\n",
       "      <th></th>\n",
       "      <th></th>\n",
       "      <th></th>\n",
       "      <th></th>\n",
       "      <th></th>\n",
       "      <th></th>\n",
       "      <th></th>\n",
       "      <th></th>\n",
       "      <th></th>\n",
       "      <th></th>\n",
       "      <th></th>\n",
       "      <th></th>\n",
       "      <th></th>\n",
       "      <th></th>\n",
       "      <th></th>\n",
       "      <th></th>\n",
       "    </tr>\n",
       "  </thead>\n",
       "  <tbody>\n",
       "    <tr>\n",
       "      <th>32</th>\n",
       "      <td>NaN</td>\n",
       "      <td>NaN</td>\n",
       "      <td>NaN</td>\n",
       "      <td>NaN</td>\n",
       "      <td>NaN</td>\n",
       "      <td>NaN</td>\n",
       "      <td>NaN</td>\n",
       "      <td>NaN</td>\n",
       "      <td>NaN</td>\n",
       "      <td>NaN</td>\n",
       "      <td>...</td>\n",
       "      <td>NaN</td>\n",
       "      <td>NaN</td>\n",
       "      <td>NaN</td>\n",
       "      <td>NaN</td>\n",
       "      <td>NaN</td>\n",
       "      <td>NaN</td>\n",
       "      <td>NaN</td>\n",
       "      <td>NaN</td>\n",
       "      <td>NaN</td>\n",
       "      <td>NaN</td>\n",
       "    </tr>\n",
       "    <tr>\n",
       "      <th>39</th>\n",
       "      <td>NaN</td>\n",
       "      <td>NaN</td>\n",
       "      <td>NaN</td>\n",
       "      <td>NaN</td>\n",
       "      <td>NaN</td>\n",
       "      <td>NaN</td>\n",
       "      <td>NaN</td>\n",
       "      <td>NaN</td>\n",
       "      <td>NaN</td>\n",
       "      <td>NaN</td>\n",
       "      <td>...</td>\n",
       "      <td>NaN</td>\n",
       "      <td>NaN</td>\n",
       "      <td>NaN</td>\n",
       "      <td>NaN</td>\n",
       "      <td>NaN</td>\n",
       "      <td>NaN</td>\n",
       "      <td>NaN</td>\n",
       "      <td>NaN</td>\n",
       "      <td>NaN</td>\n",
       "      <td>NaN</td>\n",
       "    </tr>\n",
       "    <tr>\n",
       "      <th>268</th>\n",
       "      <td>NaN</td>\n",
       "      <td>NaN</td>\n",
       "      <td>NaN</td>\n",
       "      <td>NaN</td>\n",
       "      <td>NaN</td>\n",
       "      <td>NaN</td>\n",
       "      <td>NaN</td>\n",
       "      <td>NaN</td>\n",
       "      <td>NaN</td>\n",
       "      <td>NaN</td>\n",
       "      <td>...</td>\n",
       "      <td>NaN</td>\n",
       "      <td>NaN</td>\n",
       "      <td>NaN</td>\n",
       "      <td>NaN</td>\n",
       "      <td>NaN</td>\n",
       "      <td>NaN</td>\n",
       "      <td>NaN</td>\n",
       "      <td>NaN</td>\n",
       "      <td>NaN</td>\n",
       "      <td>NaN</td>\n",
       "    </tr>\n",
       "    <tr>\n",
       "      <th>338</th>\n",
       "      <td>NaN</td>\n",
       "      <td>NaN</td>\n",
       "      <td>NaN</td>\n",
       "      <td>NaN</td>\n",
       "      <td>NaN</td>\n",
       "      <td>NaN</td>\n",
       "      <td>NaN</td>\n",
       "      <td>NaN</td>\n",
       "      <td>NaN</td>\n",
       "      <td>NaN</td>\n",
       "      <td>...</td>\n",
       "      <td>NaN</td>\n",
       "      <td>NaN</td>\n",
       "      <td>NaN</td>\n",
       "      <td>NaN</td>\n",
       "      <td>NaN</td>\n",
       "      <td>NaN</td>\n",
       "      <td>NaN</td>\n",
       "      <td>NaN</td>\n",
       "      <td>NaN</td>\n",
       "      <td>NaN</td>\n",
       "    </tr>\n",
       "    <tr>\n",
       "      <th>1005</th>\n",
       "      <td>NaN</td>\n",
       "      <td>NaN</td>\n",
       "      <td>NaN</td>\n",
       "      <td>NaN</td>\n",
       "      <td>NaN</td>\n",
       "      <td>NaN</td>\n",
       "      <td>NaN</td>\n",
       "      <td>NaN</td>\n",
       "      <td>NaN</td>\n",
       "      <td>NaN</td>\n",
       "      <td>...</td>\n",
       "      <td>NaN</td>\n",
       "      <td>NaN</td>\n",
       "      <td>NaN</td>\n",
       "      <td>NaN</td>\n",
       "      <td>NaN</td>\n",
       "      <td>NaN</td>\n",
       "      <td>NaN</td>\n",
       "      <td>NaN</td>\n",
       "      <td>NaN</td>\n",
       "      <td>NaN</td>\n",
       "    </tr>\n",
       "  </tbody>\n",
       "</table>\n",
       "<p>5 rows × 22421 columns</p>\n",
       "</div>"
      ],
      "text/plain": [
       "recipe_name  \"Million Dollar\" Chinese Cabbage Salad  \\\n",
       "user_id                                               \n",
       "32                                              NaN   \n",
       "39                                              NaN   \n",
       "268                                             NaN   \n",
       "338                                             NaN   \n",
       "1005                                            NaN   \n",
       "\n",
       "recipe_name  \"Pantry Raid\" Chicken Enchilada Casserole  \\\n",
       "user_id                                                  \n",
       "32                                                 NaN   \n",
       "39                                                 NaN   \n",
       "268                                                NaN   \n",
       "338                                                NaN   \n",
       "1005                                               NaN   \n",
       "\n",
       "recipe_name  \"Spa\"ctacular Frozen Grapes  \"Zuccotto\" Cupcakes  \\\n",
       "user_id                                                         \n",
       "32                                   NaN                  NaN   \n",
       "39                                   NaN                  NaN   \n",
       "268                                  NaN                  NaN   \n",
       "338                                  NaN                  NaN   \n",
       "1005                                 NaN                  NaN   \n",
       "\n",
       "recipe_name  #1 Pea Salad Most Requested!  #1 Pumpkin Spice Cookies  \\\n",
       "user_id                                                               \n",
       "32                                    NaN                       NaN   \n",
       "39                                    NaN                       NaN   \n",
       "268                                   NaN                       NaN   \n",
       "338                                   NaN                       NaN   \n",
       "1005                                  NaN                       NaN   \n",
       "\n",
       "recipe_name  'Adios, Turkey' Casserole  \\\n",
       "user_id                                  \n",
       "32                                 NaN   \n",
       "39                                 NaN   \n",
       "268                                NaN   \n",
       "338                                NaN   \n",
       "1005                               NaN   \n",
       "\n",
       "recipe_name  'But Why Is The Rum Gone?' Grilled Shrimp  \\\n",
       "user_id                                                  \n",
       "32                                                 NaN   \n",
       "39                                                 NaN   \n",
       "268                                                NaN   \n",
       "338                                                NaN   \n",
       "1005                                               NaN   \n",
       "\n",
       "recipe_name  'Calabacitas Guisada' (Stewed Mexican Zucchini)  \\\n",
       "user_id                                                        \n",
       "32                                                       NaN   \n",
       "39                                                       NaN   \n",
       "268                                                      NaN   \n",
       "338                                                      NaN   \n",
       "1005                                                     NaN   \n",
       "\n",
       "recipe_name  'Chinese Buffet' Green Beans  ...  \\\n",
       "user_id                                    ...   \n",
       "32                                    NaN  ...   \n",
       "39                                    NaN  ...   \n",
       "268                                   NaN  ...   \n",
       "338                                   NaN  ...   \n",
       "1005                                  NaN  ...   \n",
       "\n",
       "recipe_name  Zucchini e Pomodori Gratinati (Zucchini and Tomato Gratin)  \\\n",
       "user_id                                                                   \n",
       "32                                                         NaN            \n",
       "39                                                         NaN            \n",
       "268                                                        NaN            \n",
       "338                                                        NaN            \n",
       "1005                                                       NaN            \n",
       "\n",
       "recipe_name  Zucchini for Lunch  Zucchini with Chickpea and Mushroom Stuffing  \\\n",
       "user_id                                                                         \n",
       "32                          NaN                                           NaN   \n",
       "39                          NaN                                           NaN   \n",
       "268                         NaN                                           NaN   \n",
       "338                         NaN                                           NaN   \n",
       "1005                        NaN                                           NaN   \n",
       "\n",
       "recipe_name  Zucchini with Farfalle  \\\n",
       "user_id                               \n",
       "32                              NaN   \n",
       "39                              NaN   \n",
       "268                             NaN   \n",
       "338                             NaN   \n",
       "1005                            NaN   \n",
       "\n",
       "recipe_name  Zucchini with Mushroom Ravioli in Truffle Butter Sauce  \\\n",
       "user_id                                                               \n",
       "32                                                         NaN        \n",
       "39                                                         NaN        \n",
       "268                                                        NaN        \n",
       "338                                                        NaN        \n",
       "1005                                                       NaN        \n",
       "\n",
       "recipe_name  Zucchini-Chocolate Chip Muffins  Zuppa Inglese  Zuppa Toscana  \\\n",
       "user_id                                                                      \n",
       "32                                       NaN            NaN            NaN   \n",
       "39                                       NaN            NaN            NaN   \n",
       "268                                      NaN            NaN            NaN   \n",
       "338                                      NaN            NaN            NaN   \n",
       "1005                                     NaN            NaN            NaN   \n",
       "\n",
       "recipe_name  Zwetschekuchen (German Plum Tart)  \\\n",
       "user_id                                          \n",
       "32                                         NaN   \n",
       "39                                         NaN   \n",
       "268                                        NaN   \n",
       "338                                        NaN   \n",
       "1005                                       NaN   \n",
       "\n",
       "recipe_name  simplylo's Oven-Baked Sesame Chicken  \n",
       "user_id                                            \n",
       "32                                            NaN  \n",
       "39                                            NaN  \n",
       "268                                           NaN  \n",
       "338                                           NaN  \n",
       "1005                                          NaN  \n",
       "\n",
       "[5 rows x 22421 columns]"
      ]
     },
     "execution_count": 26,
     "metadata": {},
     "output_type": "execute_result"
    }
   ],
   "source": [
    "data = df.pivot_table(index='user_id',columns='recipe_name',values='rating')\n",
    "#Levels in the pivot table will be stored in MultiIndex objects (hierarchical indexes) on the index and columns of the result DataFrame.\n",
    "data.head()"
   ]
  },
  {
   "cell_type": "code",
   "execution_count": 27,
   "metadata": {},
   "outputs": [],
   "source": [
    "#There will be NAN values since each user has not rated all dishes"
   ]
  },
  {
   "cell_type": "code",
   "execution_count": 28,
   "metadata": {},
   "outputs": [
    {
     "data": {
      "text/html": [
       "<div>\n",
       "<style scoped>\n",
       "    .dataframe tbody tr th:only-of-type {\n",
       "        vertical-align: middle;\n",
       "    }\n",
       "\n",
       "    .dataframe tbody tr th {\n",
       "        vertical-align: top;\n",
       "    }\n",
       "\n",
       "    .dataframe thead th {\n",
       "        text-align: right;\n",
       "    }\n",
       "</style>\n",
       "<table border=\"1\" class=\"dataframe\">\n",
       "  <thead>\n",
       "    <tr style=\"text-align: right;\">\n",
       "      <th></th>\n",
       "      <th>rating</th>\n",
       "      <th>count</th>\n",
       "    </tr>\n",
       "    <tr>\n",
       "      <th>recipe_name</th>\n",
       "      <th></th>\n",
       "      <th></th>\n",
       "    </tr>\n",
       "  </thead>\n",
       "  <tbody>\n",
       "    <tr>\n",
       "      <th>Fluffy Pancakes</th>\n",
       "      <td>4.837945</td>\n",
       "      <td>506</td>\n",
       "    </tr>\n",
       "    <tr>\n",
       "      <th>Delicious Ham and Potato Soup</th>\n",
       "      <td>4.853191</td>\n",
       "      <td>470</td>\n",
       "    </tr>\n",
       "    <tr>\n",
       "      <th>Chicken Pot Pie IX</th>\n",
       "      <td>4.805389</td>\n",
       "      <td>334</td>\n",
       "    </tr>\n",
       "    <tr>\n",
       "      <th>Best Chocolate Chip Cookies</th>\n",
       "      <td>4.537994</td>\n",
       "      <td>329</td>\n",
       "    </tr>\n",
       "    <tr>\n",
       "      <th>World's Best Lasagna</th>\n",
       "      <td>4.787375</td>\n",
       "      <td>301</td>\n",
       "    </tr>\n",
       "  </tbody>\n",
       "</table>\n",
       "</div>"
      ],
      "text/plain": [
       "                                 rating  count\n",
       "recipe_name                                   \n",
       "Fluffy Pancakes                4.837945    506\n",
       "Delicious Ham and Potato Soup  4.853191    470\n",
       "Chicken Pot Pie IX             4.805389    334\n",
       "Best Chocolate Chip Cookies    4.537994    329\n",
       "World's Best Lasagna           4.787375    301"
      ]
     },
     "execution_count": 28,
     "metadata": {},
     "output_type": "execute_result"
    }
   ],
   "source": [
    "rating_details.sort_values('count',ascending=False).head()"
   ]
  },
  {
   "cell_type": "code",
   "execution_count": 29,
   "metadata": {},
   "outputs": [
    {
     "data": {
      "text/plain": [
       "rating    2692\n",
       "count     2692\n",
       "dtype: int64"
      ]
     },
     "execution_count": 29,
     "metadata": {},
     "output_type": "execute_result"
    }
   ],
   "source": [
    "import warnings\n",
    "warnings.filterwarnings(\"ignore\")\n",
    "rating_details[rating_details.sort_values('count',ascending=False)['count']>10].count()"
   ]
  },
  {
   "cell_type": "code",
   "execution_count": 30,
   "metadata": {},
   "outputs": [
    {
     "data": {
      "text/plain": [
       "rating    5188\n",
       "count     5188\n",
       "dtype: int64"
      ]
     },
     "execution_count": 30,
     "metadata": {},
     "output_type": "execute_result"
    }
   ],
   "source": [
    "rating_details[rating_details.sort_values('count',ascending=False)['count']>5].count()"
   ]
  },
  {
   "cell_type": "code",
   "execution_count": 31,
   "metadata": {},
   "outputs": [
    {
     "data": {
      "text/plain": [
       "rating    1184\n",
       "count     1184\n",
       "dtype: int64"
      ]
     },
     "execution_count": 31,
     "metadata": {},
     "output_type": "execute_result"
    }
   ],
   "source": [
    "rating_details[rating_details.sort_values('count',ascending=False)['count']>20].count()"
   ]
  },
  {
   "cell_type": "code",
   "execution_count": 32,
   "metadata": {},
   "outputs": [],
   "source": [
    "#Lets take threshold as 10"
   ]
  },
  {
   "cell_type": "code",
   "execution_count": 33,
   "metadata": {},
   "outputs": [],
   "source": [
    "#Lets take fluffy pancakes and try to find next suggestion/recommendation"
   ]
  },
  {
   "cell_type": "code",
   "execution_count": 34,
   "metadata": {},
   "outputs": [
    {
     "data": {
      "text/plain": [
       "user_id\n",
       "30007    5.0\n",
       "35215    5.0\n",
       "45133    5.0\n",
       "47412    4.0\n",
       "57499    5.0\n",
       "Name: Fluffy Pancakes, dtype: float64"
      ]
     },
     "execution_count": 34,
     "metadata": {},
     "output_type": "execute_result"
    }
   ],
   "source": [
    "user_ratings = data['Fluffy Pancakes']\n",
    "user_ratings[user_ratings>0].head()"
   ]
  },
  {
   "cell_type": "code",
   "execution_count": 35,
   "metadata": {},
   "outputs": [],
   "source": [
    "similar= data.corrwith(user_ratings)\n",
    "#Finding correlation between pivot table and Fluffy Pancakes"
   ]
  },
  {
   "cell_type": "code",
   "execution_count": 36,
   "metadata": {},
   "outputs": [
    {
     "data": {
      "text/plain": [
       "recipe_name\n",
       "\"Million Dollar\" Chinese Cabbage Salad      NaN\n",
       "\"Pantry Raid\" Chicken Enchilada Casserole   NaN\n",
       "\"Spa\"ctacular Frozen Grapes                 NaN\n",
       "\"Zuccotto\" Cupcakes                         NaN\n",
       "#1 Pea Salad Most Requested!                NaN\n",
       "dtype: float64"
      ]
     },
     "execution_count": 36,
     "metadata": {},
     "output_type": "execute_result"
    }
   ],
   "source": [
    "similar.head()"
   ]
  },
  {
   "cell_type": "code",
   "execution_count": 37,
   "metadata": {},
   "outputs": [],
   "source": [
    "#Removing NA values from this"
   ]
  },
  {
   "cell_type": "code",
   "execution_count": 38,
   "metadata": {},
   "outputs": [
    {
     "data": {
      "text/html": [
       "<div>\n",
       "<style scoped>\n",
       "    .dataframe tbody tr th:only-of-type {\n",
       "        vertical-align: middle;\n",
       "    }\n",
       "\n",
       "    .dataframe tbody tr th {\n",
       "        vertical-align: top;\n",
       "    }\n",
       "\n",
       "    .dataframe thead th {\n",
       "        text-align: right;\n",
       "    }\n",
       "</style>\n",
       "<table border=\"1\" class=\"dataframe\">\n",
       "  <thead>\n",
       "    <tr style=\"text-align: right;\">\n",
       "      <th></th>\n",
       "      <th>Correlation</th>\n",
       "    </tr>\n",
       "    <tr>\n",
       "      <th>recipe_name</th>\n",
       "      <th></th>\n",
       "    </tr>\n",
       "  </thead>\n",
       "  <tbody>\n",
       "    <tr>\n",
       "      <th>Alfredo Sauce</th>\n",
       "      <td>1.000000</td>\n",
       "    </tr>\n",
       "    <tr>\n",
       "      <th>All-Day Apple Butter</th>\n",
       "      <td>-1.000000</td>\n",
       "    </tr>\n",
       "    <tr>\n",
       "      <th>Apple Crisp II</th>\n",
       "      <td>-0.166667</td>\n",
       "    </tr>\n",
       "    <tr>\n",
       "      <th>Apple Pie by Grandma Ople</th>\n",
       "      <td>-0.301511</td>\n",
       "    </tr>\n",
       "    <tr>\n",
       "      <th>Asian Orange Chicken</th>\n",
       "      <td>0.500000</td>\n",
       "    </tr>\n",
       "  </tbody>\n",
       "</table>\n",
       "</div>"
      ],
      "text/plain": [
       "                           Correlation\n",
       "recipe_name                           \n",
       "Alfredo Sauce                 1.000000\n",
       "All-Day Apple Butter         -1.000000\n",
       "Apple Crisp II               -0.166667\n",
       "Apple Pie by Grandma Ople    -0.301511\n",
       "Asian Orange Chicken          0.500000"
      ]
     },
     "execution_count": 38,
     "metadata": {},
     "output_type": "execute_result"
    }
   ],
   "source": [
    "corr = pd.DataFrame(similar,columns=['Correlation'])\n",
    "corr.dropna(inplace=True)\n",
    "corr.head()"
   ]
  },
  {
   "cell_type": "code",
   "execution_count": 39,
   "metadata": {},
   "outputs": [],
   "source": [
    "#Now some correlations dont make sense because number of rating are very less say 1 or 2 so we incorporate number of ratings as well in correlation"
   ]
  },
  {
   "cell_type": "code",
   "execution_count": 40,
   "metadata": {},
   "outputs": [
    {
     "data": {
      "text/html": [
       "<div>\n",
       "<style scoped>\n",
       "    .dataframe tbody tr th:only-of-type {\n",
       "        vertical-align: middle;\n",
       "    }\n",
       "\n",
       "    .dataframe tbody tr th {\n",
       "        vertical-align: top;\n",
       "    }\n",
       "\n",
       "    .dataframe thead th {\n",
       "        text-align: right;\n",
       "    }\n",
       "</style>\n",
       "<table border=\"1\" class=\"dataframe\">\n",
       "  <thead>\n",
       "    <tr style=\"text-align: right;\">\n",
       "      <th></th>\n",
       "      <th>Correlation</th>\n",
       "      <th>count</th>\n",
       "    </tr>\n",
       "    <tr>\n",
       "      <th>recipe_name</th>\n",
       "      <th></th>\n",
       "      <th></th>\n",
       "    </tr>\n",
       "  </thead>\n",
       "  <tbody>\n",
       "    <tr>\n",
       "      <th>Alfredo Sauce</th>\n",
       "      <td>1.000000</td>\n",
       "      <td>80</td>\n",
       "    </tr>\n",
       "    <tr>\n",
       "      <th>All-Day Apple Butter</th>\n",
       "      <td>-1.000000</td>\n",
       "      <td>54</td>\n",
       "    </tr>\n",
       "    <tr>\n",
       "      <th>Apple Crisp II</th>\n",
       "      <td>-0.166667</td>\n",
       "      <td>228</td>\n",
       "    </tr>\n",
       "    <tr>\n",
       "      <th>Apple Pie by Grandma Ople</th>\n",
       "      <td>-0.301511</td>\n",
       "      <td>266</td>\n",
       "    </tr>\n",
       "    <tr>\n",
       "      <th>Asian Orange Chicken</th>\n",
       "      <td>0.500000</td>\n",
       "      <td>47</td>\n",
       "    </tr>\n",
       "  </tbody>\n",
       "</table>\n",
       "</div>"
      ],
      "text/plain": [
       "                           Correlation  count\n",
       "recipe_name                                  \n",
       "Alfredo Sauce                 1.000000     80\n",
       "All-Day Apple Butter         -1.000000     54\n",
       "Apple Crisp II               -0.166667    228\n",
       "Apple Pie by Grandma Ople    -0.301511    266\n",
       "Asian Orange Chicken          0.500000     47"
      ]
     },
     "execution_count": 40,
     "metadata": {},
     "output_type": "execute_result"
    }
   ],
   "source": [
    "corr = corr.join(rating_details['count'])\n",
    "corr.head()"
   ]
  },
  {
   "cell_type": "code",
   "execution_count": 41,
   "metadata": {},
   "outputs": [
    {
     "data": {
      "text/html": [
       "<div>\n",
       "<style scoped>\n",
       "    .dataframe tbody tr th:only-of-type {\n",
       "        vertical-align: middle;\n",
       "    }\n",
       "\n",
       "    .dataframe tbody tr th {\n",
       "        vertical-align: top;\n",
       "    }\n",
       "\n",
       "    .dataframe thead th {\n",
       "        text-align: right;\n",
       "    }\n",
       "</style>\n",
       "<table border=\"1\" class=\"dataframe\">\n",
       "  <thead>\n",
       "    <tr style=\"text-align: right;\">\n",
       "      <th></th>\n",
       "      <th>Correlation</th>\n",
       "      <th>count</th>\n",
       "    </tr>\n",
       "    <tr>\n",
       "      <th>recipe_name</th>\n",
       "      <th></th>\n",
       "      <th></th>\n",
       "    </tr>\n",
       "  </thead>\n",
       "  <tbody>\n",
       "    <tr>\n",
       "      <th>Alfredo Sauce</th>\n",
       "      <td>1.0</td>\n",
       "      <td>80</td>\n",
       "    </tr>\n",
       "    <tr>\n",
       "      <th>Boardwalk Quality Maple Walnut Fudge</th>\n",
       "      <td>1.0</td>\n",
       "      <td>23</td>\n",
       "    </tr>\n",
       "    <tr>\n",
       "      <th>Sweet Potato Pie I</th>\n",
       "      <td>1.0</td>\n",
       "      <td>71</td>\n",
       "    </tr>\n",
       "    <tr>\n",
       "      <th>Super-Delicious Zuppa Toscana</th>\n",
       "      <td>1.0</td>\n",
       "      <td>112</td>\n",
       "    </tr>\n",
       "    <tr>\n",
       "      <th>Simple Turkey Chili</th>\n",
       "      <td>1.0</td>\n",
       "      <td>64</td>\n",
       "    </tr>\n",
       "    <tr>\n",
       "      <th>Refried Beans Without the Refry</th>\n",
       "      <td>1.0</td>\n",
       "      <td>122</td>\n",
       "    </tr>\n",
       "    <tr>\n",
       "      <th>Four Egg Yellow Cake</th>\n",
       "      <td>1.0</td>\n",
       "      <td>20</td>\n",
       "    </tr>\n",
       "    <tr>\n",
       "      <th>Fluffy Peanut Butter Frosting</th>\n",
       "      <td>1.0</td>\n",
       "      <td>60</td>\n",
       "    </tr>\n",
       "    <tr>\n",
       "      <th>Chicken with Garlic, Basil, and Parsley</th>\n",
       "      <td>1.0</td>\n",
       "      <td>29</td>\n",
       "    </tr>\n",
       "    <tr>\n",
       "      <th>Buttermilk Pancakes II</th>\n",
       "      <td>1.0</td>\n",
       "      <td>93</td>\n",
       "    </tr>\n",
       "  </tbody>\n",
       "</table>\n",
       "</div>"
      ],
      "text/plain": [
       "                                         Correlation  count\n",
       "recipe_name                                                \n",
       "Alfredo Sauce                                    1.0     80\n",
       "Boardwalk Quality Maple Walnut Fudge             1.0     23\n",
       "Sweet Potato Pie I                               1.0     71\n",
       "Super-Delicious Zuppa Toscana                    1.0    112\n",
       "Simple Turkey Chili                              1.0     64\n",
       "Refried Beans Without the Refry                  1.0    122\n",
       "Four Egg Yellow Cake                             1.0     20\n",
       "Fluffy Peanut Butter Frosting                    1.0     60\n",
       "Chicken with Garlic, Basil, and Parsley          1.0     29\n",
       "Buttermilk Pancakes II                           1.0     93"
      ]
     },
     "execution_count": 41,
     "metadata": {},
     "output_type": "execute_result"
    }
   ],
   "source": [
    "corr[corr['count']>10].sort_values('Correlation',ascending=False).head(10)\n",
    "#We will give 10 recommendations"
   ]
  },
  {
   "cell_type": "code",
   "execution_count": 42,
   "metadata": {},
   "outputs": [
    {
     "data": {
      "text/html": [
       "<div>\n",
       "<style scoped>\n",
       "    .dataframe tbody tr th:only-of-type {\n",
       "        vertical-align: middle;\n",
       "    }\n",
       "\n",
       "    .dataframe tbody tr th {\n",
       "        vertical-align: top;\n",
       "    }\n",
       "\n",
       "    .dataframe thead th {\n",
       "        text-align: right;\n",
       "    }\n",
       "</style>\n",
       "<table border=\"1\" class=\"dataframe\">\n",
       "  <thead>\n",
       "    <tr style=\"text-align: right;\">\n",
       "      <th></th>\n",
       "      <th>recipe_name</th>\n",
       "    </tr>\n",
       "  </thead>\n",
       "  <tbody>\n",
       "    <tr>\n",
       "      <th>0</th>\n",
       "      <td>Alfredo Sauce</td>\n",
       "    </tr>\n",
       "    <tr>\n",
       "      <th>1</th>\n",
       "      <td>Boardwalk Quality Maple Walnut Fudge</td>\n",
       "    </tr>\n",
       "    <tr>\n",
       "      <th>2</th>\n",
       "      <td>Sweet Potato Pie I</td>\n",
       "    </tr>\n",
       "    <tr>\n",
       "      <th>3</th>\n",
       "      <td>Super-Delicious Zuppa Toscana</td>\n",
       "    </tr>\n",
       "    <tr>\n",
       "      <th>4</th>\n",
       "      <td>Simple Turkey Chili</td>\n",
       "    </tr>\n",
       "    <tr>\n",
       "      <th>5</th>\n",
       "      <td>Refried Beans Without the Refry</td>\n",
       "    </tr>\n",
       "    <tr>\n",
       "      <th>6</th>\n",
       "      <td>Four Egg Yellow Cake</td>\n",
       "    </tr>\n",
       "    <tr>\n",
       "      <th>7</th>\n",
       "      <td>Fluffy Peanut Butter Frosting</td>\n",
       "    </tr>\n",
       "    <tr>\n",
       "      <th>8</th>\n",
       "      <td>Chicken with Garlic, Basil, and Parsley</td>\n",
       "    </tr>\n",
       "    <tr>\n",
       "      <th>9</th>\n",
       "      <td>Buttermilk Pancakes II</td>\n",
       "    </tr>\n",
       "  </tbody>\n",
       "</table>\n",
       "</div>"
      ],
      "text/plain": [
       "                               recipe_name\n",
       "0                            Alfredo Sauce\n",
       "1     Boardwalk Quality Maple Walnut Fudge\n",
       "2                       Sweet Potato Pie I\n",
       "3            Super-Delicious Zuppa Toscana\n",
       "4                      Simple Turkey Chili\n",
       "5          Refried Beans Without the Refry\n",
       "6                     Four Egg Yellow Cake\n",
       "7            Fluffy Peanut Butter Frosting\n",
       "8  Chicken with Garlic, Basil, and Parsley\n",
       "9                   Buttermilk Pancakes II"
      ]
     },
     "execution_count": 42,
     "metadata": {},
     "output_type": "execute_result"
    }
   ],
   "source": [
    "corr[corr['count']>10].sort_values('Correlation',ascending=False).index.to_frame(index=False).head(10)\n",
    "#This is what we need"
   ]
  },
  {
   "cell_type": "code",
   "execution_count": 43,
   "metadata": {},
   "outputs": [],
   "source": [
    "#Automation"
   ]
  },
  {
   "cell_type": "code",
   "execution_count": 44,
   "metadata": {},
   "outputs": [],
   "source": [
    "# input_dish = input(\"Please enter the name of the recipe\\n\")\n",
    "# while input_dish not in dishes.index:\n",
    "#         print(\"\\n\" + input_dish +\"?\")\n",
    "#         print(\"Invalid option\")\n",
    "#         input_dish = input(\"Please enter the name of the recipe\\n\")"
   ]
  },
  {
   "cell_type": "code",
   "execution_count": 49,
   "metadata": {},
   "outputs": [],
   "source": [
    "df = pd.read_csv('reviews_data.csv')\n",
    "dishes = pd.read_csv('recipe_name.csv')\n",
    "dishes=dishes.drop(\"Unnamed: 0\", axis=1)\n",
    "df = pd.merge(df,dishes,on='recipe_id')\n",
    "data = df.pivot_table(index='user_id',columns='recipe_name',values='rating') \n",
    "df=df.drop(\"dateLastModified\",axis=1)\n",
    "data = df.pivot_table(index='user_id',columns='recipe_name',values='rating')"
   ]
  },
  {
   "cell_type": "code",
   "execution_count": 76,
   "metadata": {},
   "outputs": [
    {
     "name": "stdout",
     "output_type": "stream",
     "text": [
      "Please enter the name of the recipe\n",
      "Belgian Waffles\n"
     ]
    },
    {
     "data": {
      "text/html": [
       "<div>\n",
       "<style scoped>\n",
       "    .dataframe tbody tr th:only-of-type {\n",
       "        vertical-align: middle;\n",
       "    }\n",
       "\n",
       "    .dataframe tbody tr th {\n",
       "        vertical-align: top;\n",
       "    }\n",
       "\n",
       "    .dataframe thead th {\n",
       "        text-align: right;\n",
       "    }\n",
       "</style>\n",
       "<table border=\"1\" class=\"dataframe\">\n",
       "  <thead>\n",
       "    <tr style=\"text-align: right;\">\n",
       "      <th></th>\n",
       "      <th>recipe_name</th>\n",
       "    </tr>\n",
       "  </thead>\n",
       "  <tbody>\n",
       "    <tr>\n",
       "      <th>1</th>\n",
       "      <td>Robbi's M&amp;Ms® Cookies</td>\n",
       "    </tr>\n",
       "  </tbody>\n",
       "</table>\n",
       "</div>"
      ],
      "text/plain": [
       "             recipe_name\n",
       "1  Robbi's M&Ms® Cookies"
      ]
     },
     "execution_count": 76,
     "metadata": {},
     "output_type": "execute_result"
    }
   ],
   "source": [
    "input_dish = input(\"Please enter the name of the recipe\\n\")\n",
    "while input_dish not in data.head().columns:\n",
    "        print(\"\\n\" + input_dish +\"?\")\n",
    "        print(\"Invalid option\")\n",
    "        input_dish = input(\"Please enter the name of the recipe\\n\")\n",
    "user_ratings=data[input_dish]\n",
    "similar=data.corrwith(user_ratings)\n",
    "corr=pd.DataFrame(similar,columns=['Correlation'])\n",
    "corr.dropna(inplace=True)\n",
    "corr = corr.join(rating_details['count'])\n",
    "ans=corr[corr['count']>10].sort_values('Correlation',ascending=False).index.to_frame(index=False)\n",
    "ans[ans['recipe_name']!=input_dish].head(10)"
   ]
  },
  {
   "cell_type": "code",
   "execution_count": null,
   "metadata": {},
   "outputs": [],
   "source": []
  }
 ],
 "metadata": {
  "kernelspec": {
   "display_name": "Python 3",
   "language": "python",
   "name": "python3"
  },
  "language_info": {
   "codemirror_mode": {
    "name": "ipython",
    "version": 3
   },
   "file_extension": ".py",
   "mimetype": "text/x-python",
   "name": "python",
   "nbconvert_exporter": "python",
   "pygments_lexer": "ipython3",
   "version": "3.7.3"
  }
 },
 "nbformat": 4,
 "nbformat_minor": 2
}
